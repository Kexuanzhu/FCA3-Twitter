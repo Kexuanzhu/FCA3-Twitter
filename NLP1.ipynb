{
 "cells": [
  {
   "cell_type": "markdown",
   "metadata": {},
   "source": [
    "## load libraries"
   ]
  },
  {
   "cell_type": "code",
   "execution_count": 4,
   "metadata": {},
   "outputs": [],
   "source": [
    "# basic operations\n",
    "import os\n",
    "import re\n",
    "\n",
    "import pickle\n",
    "\n",
    "# data analysis/management/manipulation\n",
    "import numpy as np\n",
    "import pandas as pd\n",
    "# import sklearn\n",
    "\n",
    "# text analysis\n",
    "import emoji\n",
    "import spacy\n",
    "import en_core_web_lg\n",
    "import gensim\n",
    "from gensim.models import LdaModel\n",
    "from gensim.models.wrappers import LdaMallet\n",
    "from gensim.models import Phrases\n",
    "from gensim.models import CoherenceModel\n",
    "from gensim.corpora import Dictionary\n",
    "from gensim.similarities import MatrixSimilarity\n",
    "\n",
    "# data visualisation\n",
    "import seaborn as sns\n",
    "import matplotlib.pyplot as plt\n",
    "import matplotlib as mpl"
   ]
  },
  {
   "cell_type": "code",
   "execution_count": 2,
   "metadata": {},
   "outputs": [],
   "source": [
    "## load data\n",
    "path = '/Users/nicole/Documents/ARP/code/FCAdata'\n",
    "\n",
    "files = os.listdir(path)"
   ]
  },
  {
   "cell_type": "code",
   "execution_count": 3,
   "metadata": {},
   "outputs": [
    {
     "name": "stdout",
     "output_type": "stream",
     "text": [
      "seat_1.csv\n",
      "mini_1.csv\n",
      "smart_1.csv\n",
      "hondae_1.csv\n",
      "ev_1.csv\n",
      "renault_1.csv\n",
      "fiat_1.csv\n"
     ]
    }
   ],
   "source": [
    "to_concat = [] \n",
    "\n",
    "for file in files:\n",
    "    if file.endswith('_1.csv'):\n",
    "        print(file)\n",
    "\n",
    "        #read file\n",
    "        data = pd.read_csv(f'/Users/nicole/Documents/ARP/code/FCAdata/{str(file)}', lineterminator='\\n')\n",
    "\n",
    "        #select columns \n",
    "        data = data[['date', 'month_year', 'tweet', 'brand']]\n",
    "\n",
    "        to_concat.append(data)\n",
    "\n",
    "df = pd.concat(to_concat, ignore_index=True)\n",
    "        \n"
   ]
  },
  {
   "cell_type": "code",
   "execution_count": 12,
   "metadata": {},
   "outputs": [
    {
     "data": {
      "text/plain": "131562"
     },
     "execution_count": 12,
     "metadata": {},
     "output_type": "execute_result"
    }
   ],
   "source": [
    "len(df)"
   ]
  },
  {
   "cell_type": "code",
   "execution_count": 13,
   "metadata": {},
   "outputs": [
    {
     "data": {
      "text/plain": "ev         60000\nrenault    29650\nhondae     20885\nmini       11123\nfiat        5819\nsmart       3817\nseat         268\nName: brand, dtype: int64"
     },
     "execution_count": 13,
     "metadata": {},
     "output_type": "execute_result"
    }
   ],
   "source": [
    "df.brand.value_counts()"
   ]
  },
  {
   "cell_type": "code",
   "execution_count": 14,
   "metadata": {},
   "outputs": [
    {
     "data": {
      "text/plain": "Index(['date', 'month_year', 'tweet', 'brand'], dtype='object')"
     },
     "execution_count": 14,
     "metadata": {},
     "output_type": "execute_result"
    }
   ],
   "source": [
    "df.columns"
   ]
  },
  {
   "cell_type": "code",
   "execution_count": 15,
   "metadata": {},
   "outputs": [
    {
     "data": {
      "text/html": "<div>\n<style scoped>\n    .dataframe tbody tr th:only-of-type {\n        vertical-align: middle;\n    }\n\n    .dataframe tbody tr th {\n        vertical-align: top;\n    }\n\n    .dataframe thead th {\n        text-align: right;\n    }\n</style>\n<table border=\"1\" class=\"dataframe\">\n  <thead>\n    <tr style=\"text-align: right;\">\n      <th>month_year</th>\n      <th>2016-01</th>\n      <th>2016-02</th>\n      <th>2016-03</th>\n      <th>2016-04</th>\n      <th>2016-05</th>\n      <th>2016-06</th>\n      <th>2016-07</th>\n      <th>2016-08</th>\n      <th>2016-09</th>\n      <th>2016-10</th>\n      <th>...</th>\n      <th>2020-09</th>\n      <th>2020-10</th>\n      <th>2020-11</th>\n      <th>2020-12</th>\n      <th>2021-01</th>\n      <th>2021-02</th>\n      <th>2021-03</th>\n      <th>2021-04</th>\n      <th>2021-05</th>\n      <th>2021-06</th>\n    </tr>\n    <tr>\n      <th>brand</th>\n      <th></th>\n      <th></th>\n      <th></th>\n      <th></th>\n      <th></th>\n      <th></th>\n      <th></th>\n      <th></th>\n      <th></th>\n      <th></th>\n      <th></th>\n      <th></th>\n      <th></th>\n      <th></th>\n      <th></th>\n      <th></th>\n      <th></th>\n      <th></th>\n      <th></th>\n      <th></th>\n      <th></th>\n    </tr>\n  </thead>\n  <tbody>\n    <tr>\n      <th>ev</th>\n      <td>542</td>\n      <td>579</td>\n      <td>663</td>\n      <td>797</td>\n      <td>668</td>\n      <td>738</td>\n      <td>534</td>\n      <td>903</td>\n      <td>992</td>\n      <td>1133</td>\n      <td>...</td>\n      <td>1423</td>\n      <td>1405</td>\n      <td>1561</td>\n      <td>1379</td>\n      <td>1712</td>\n      <td>1827</td>\n      <td>1799</td>\n      <td>1600</td>\n      <td>1627</td>\n      <td>1435</td>\n    </tr>\n    <tr>\n      <th>fiat</th>\n      <td>0</td>\n      <td>0</td>\n      <td>0</td>\n      <td>0</td>\n      <td>0</td>\n      <td>0</td>\n      <td>0</td>\n      <td>0</td>\n      <td>0</td>\n      <td>0</td>\n      <td>...</td>\n      <td>115</td>\n      <td>265</td>\n      <td>148</td>\n      <td>308</td>\n      <td>157</td>\n      <td>109</td>\n      <td>133</td>\n      <td>175</td>\n      <td>272</td>\n      <td>213</td>\n    </tr>\n    <tr>\n      <th>hondae</th>\n      <td>0</td>\n      <td>0</td>\n      <td>0</td>\n      <td>0</td>\n      <td>0</td>\n      <td>0</td>\n      <td>0</td>\n      <td>0</td>\n      <td>0</td>\n      <td>0</td>\n      <td>...</td>\n      <td>1017</td>\n      <td>1006</td>\n      <td>606</td>\n      <td>530</td>\n      <td>686</td>\n      <td>517</td>\n      <td>779</td>\n      <td>1034</td>\n      <td>486</td>\n      <td>1160</td>\n    </tr>\n    <tr>\n      <th>mini</th>\n      <td>0</td>\n      <td>0</td>\n      <td>0</td>\n      <td>0</td>\n      <td>0</td>\n      <td>0</td>\n      <td>0</td>\n      <td>0</td>\n      <td>0</td>\n      <td>0</td>\n      <td>...</td>\n      <td>339</td>\n      <td>406</td>\n      <td>408</td>\n      <td>286</td>\n      <td>255</td>\n      <td>285</td>\n      <td>665</td>\n      <td>472</td>\n      <td>237</td>\n      <td>433</td>\n    </tr>\n    <tr>\n      <th>renault</th>\n      <td>0</td>\n      <td>0</td>\n      <td>125</td>\n      <td>349</td>\n      <td>213</td>\n      <td>263</td>\n      <td>318</td>\n      <td>302</td>\n      <td>878</td>\n      <td>608</td>\n      <td>...</td>\n      <td>491</td>\n      <td>423</td>\n      <td>405</td>\n      <td>418</td>\n      <td>426</td>\n      <td>276</td>\n      <td>331</td>\n      <td>292</td>\n      <td>305</td>\n      <td>393</td>\n    </tr>\n    <tr>\n      <th>seat</th>\n      <td>0</td>\n      <td>0</td>\n      <td>0</td>\n      <td>0</td>\n      <td>0</td>\n      <td>0</td>\n      <td>0</td>\n      <td>0</td>\n      <td>0</td>\n      <td>0</td>\n      <td>...</td>\n      <td>12</td>\n      <td>8</td>\n      <td>10</td>\n      <td>8</td>\n      <td>7</td>\n      <td>9</td>\n      <td>9</td>\n      <td>6</td>\n      <td>5</td>\n      <td>8</td>\n    </tr>\n    <tr>\n      <th>smart</th>\n      <td>0</td>\n      <td>0</td>\n      <td>0</td>\n      <td>0</td>\n      <td>0</td>\n      <td>0</td>\n      <td>0</td>\n      <td>0</td>\n      <td>0</td>\n      <td>0</td>\n      <td>...</td>\n      <td>67</td>\n      <td>61</td>\n      <td>85</td>\n      <td>77</td>\n      <td>86</td>\n      <td>58</td>\n      <td>110</td>\n      <td>65</td>\n      <td>131</td>\n      <td>57</td>\n    </tr>\n  </tbody>\n</table>\n<p>7 rows × 66 columns</p>\n</div>",
      "text/plain": "month_year  2016-01  2016-02  2016-03  2016-04  2016-05  2016-06  2016-07  \\\nbrand                                                                       \nev              542      579      663      797      668      738      534   \nfiat              0        0        0        0        0        0        0   \nhondae            0        0        0        0        0        0        0   \nmini              0        0        0        0        0        0        0   \nrenault           0        0      125      349      213      263      318   \nseat              0        0        0        0        0        0        0   \nsmart             0        0        0        0        0        0        0   \n\nmonth_year  2016-08  2016-09  2016-10  ...  2020-09  2020-10  2020-11  \\\nbrand                                  ...                              \nev              903      992     1133  ...     1423     1405     1561   \nfiat              0        0        0  ...      115      265      148   \nhondae            0        0        0  ...     1017     1006      606   \nmini              0        0        0  ...      339      406      408   \nrenault         302      878      608  ...      491      423      405   \nseat              0        0        0  ...       12        8       10   \nsmart             0        0        0  ...       67       61       85   \n\nmonth_year  2020-12  2021-01  2021-02  2021-03  2021-04  2021-05  2021-06  \nbrand                                                                      \nev             1379     1712     1827     1799     1600     1627     1435  \nfiat            308      157      109      133      175      272      213  \nhondae          530      686      517      779     1034      486     1160  \nmini            286      255      285      665      472      237      433  \nrenault         418      426      276      331      292      305      393  \nseat              8        7        9        9        6        5        8  \nsmart            77       86       58      110       65      131       57  \n\n[7 rows x 66 columns]"
     },
     "execution_count": 15,
     "metadata": {},
     "output_type": "execute_result"
    }
   ],
   "source": [
    "pd.crosstab(df.brand, df.month_year)"
   ]
  },
  {
   "cell_type": "markdown",
   "metadata": {},
   "source": [
    "## preprocessing"
   ]
  },
  {
   "cell_type": "code",
   "execution_count": 14,
   "metadata": {},
   "outputs": [
    {
     "data": {
      "text/html": "<div>\n<style scoped>\n    .dataframe tbody tr th:only-of-type {\n        vertical-align: middle;\n    }\n\n    .dataframe tbody tr th {\n        vertical-align: top;\n    }\n\n    .dataframe thead th {\n        text-align: right;\n    }\n</style>\n<table border=\"1\" class=\"dataframe\">\n  <thead>\n    <tr style=\"text-align: right;\">\n      <th></th>\n      <th>date</th>\n      <th>month_year</th>\n      <th>tweet</th>\n      <th>brand</th>\n      <th>clean_tweet</th>\n    </tr>\n  </thead>\n  <tbody>\n    <tr>\n      <th>0</th>\n      <td>2018-11-03</td>\n      <td>2018-11</td>\n      <td>Enjoy every minute of city living with the com...</td>\n      <td>seat</td>\n      <td>enjoy every minute of city living with the com...</td>\n    </tr>\n    <tr>\n      <th>2</th>\n      <td>2018-11-26</td>\n      <td>2018-11</td>\n      <td>Recent move: We took this #SeatMii to a film s...</td>\n      <td>seat</td>\n      <td>recent move we took this #seatmii to a film st...</td>\n    </tr>\n    <tr>\n      <th>3</th>\n      <td>2019-01-17</td>\n      <td>2019-01</td>\n      <td>What a great start to a Thursday morning! Cong...</td>\n      <td>seat</td>\n      <td>what a great start to a thursday morning congr...</td>\n    </tr>\n    <tr>\n      <th>4</th>\n      <td>2019-01-29</td>\n      <td>2019-01</td>\n      <td>Someone else had been lucky in an @AutoExpress...</td>\n      <td>seat</td>\n      <td>someone else had been lucky in an competition ...</td>\n    </tr>\n    <tr>\n      <th>5</th>\n      <td>2019-01-31</td>\n      <td>2019-01</td>\n      <td>We have the new #SEATMii available now with 0%...</td>\n      <td>seat</td>\n      <td>we have the new #seatmii available now with 0 ...</td>\n    </tr>\n  </tbody>\n</table>\n</div>",
      "text/plain": "         date month_year                                              tweet  \\\n0  2018-11-03    2018-11  Enjoy every minute of city living with the com...   \n2  2018-11-26    2018-11  Recent move: We took this #SeatMii to a film s...   \n3  2019-01-17    2019-01  What a great start to a Thursday morning! Cong...   \n4  2019-01-29    2019-01  Someone else had been lucky in an @AutoExpress...   \n5  2019-01-31    2019-01  We have the new #SEATMii available now with 0%...   \n\n  brand                                        clean_tweet  \n0  seat  enjoy every minute of city living with the com...  \n2  seat  recent move we took this #seatmii to a film st...  \n3  seat  what a great start to a thursday morning congr...  \n4  seat  someone else had been lucky in an competition ...  \n5  seat  we have the new #seatmii available now with 0 ...  "
     },
     "execution_count": 14,
     "metadata": {},
     "output_type": "execute_result"
    }
   ],
   "source": [
    "df.head()"
   ]
  },
  {
   "cell_type": "code",
   "execution_count": 5,
   "metadata": {},
   "outputs": [],
   "source": [
    "punctuation = '!”$%&\\’()*+,-./:;<=>?[\\\\]^_`{|}~•@'\n",
    "\n",
    "def give_emoji_free_text(tweet): \n",
    "    tweet = emoji.get_emoji_regexp().sub(r'', tweet)\n",
    "    return tweet\n",
    "\n",
    "def remove_links(tweet):\n",
    "    \"\"\"Takes a string and removes web links from it\"\"\"\n",
    "    tweet = re.sub(r'http\\S+', '', tweet)   # remove http links\n",
    "    tweet = re.sub(r'bit.ly/\\S+', '', tweet)  # remove bitly links\n",
    "    tweet = tweet.strip('[link]')   # remove [links]\n",
    "    tweet = re.sub(r'pic.twitter\\S+','', tweet)\n",
    "    return tweet\n",
    "\n",
    "def remove_users(tweet):\n",
    "    \"\"\"Takes a string and removes retweet and @user information\"\"\"\n",
    "    tweet = re.sub('(RT\\s@[A-Za-z]+[A-Za-z0-9-_]+)', '', tweet)  # remove re-tweet\n",
    "    tweet = re.sub('(@[A-Za-z]+[A-Za-z0-9-_]+)', '', tweet)  # remove tweeted at\n",
    "    return tweet\n",
    "\n",
    "# def remove_hashtags(tweet):\n",
    "#     \"\"\"Takes a string and removes any hash tags\"\"\"\n",
    "#     tweet = re.sub('(#[A-Za-z]+[A-Za-z0-9-_]+)', '', tweet)  # remove hash tags\n",
    "#     return tweet\n",
    "\n",
    "def remove_av(tweet):\n",
    "    \"\"\"Takes a string and removes AUDIO/VIDEO tags or labels\"\"\"\n",
    "    tweet = re.sub('VIDEO:', '', tweet)  # remove 'VIDEO:' from start of tweet\n",
    "    tweet = re.sub('AUDIO:', '', tweet)  # remove 'AUDIO:' from start of tweet\n",
    "    return tweet\n",
    "\n"
   ]
  },
  {
   "cell_type": "code",
   "execution_count": 6,
   "metadata": {},
   "outputs": [],
   "source": [
    "def basic_clean(tweet):\n",
    "    \"\"\"Main master function to clean tweets only without tokenization or removal of stopwords\"\"\"\n",
    "    tweet = give_emoji_free_text(tweet)\n",
    "    tweet = remove_users(tweet)\n",
    "    tweet = remove_links(tweet)\n",
    "    # tweet = remove_hashtags(tweet)\n",
    "    tweet = remove_av(tweet)\n",
    "    tweet = tweet.lower()  # lower case\n",
    "    tweet = re.sub('[' + punctuation + ']+', ' ', tweet)  # strip punctuation\n",
    "    tweet = re.sub('\\s+', ' ', tweet)  # remove double spacing\n",
    "    tweet = tweet.strip() # final strip\n",
    "    return tweet\n",
    "\n",
    "\n",
    "def clean_tweets(df):\n",
    "    \"\"\"Main function to read in and return cleaned and preprocessed dataframe.\n",
    "    This can be used in Jupyter notebooks by importing this module and calling the tokenize_tweets() function\n",
    "    Args:\n",
    "        df = data frame object to apply cleaning to\n",
    "    Returns:\n",
    "        pandas data frame with cleaned tokens\n",
    "    \"\"\"\n",
    "\n",
    "    df['clean_tweet'] = df['tweet'].apply(basic_clean)\n",
    "    num_tweets = len(df)\n",
    "    print('Complete. Number of Tweets that have been cleaned and tokenized : {}'.format(num_tweets))\n",
    "    return df"
   ]
  },
  {
   "cell_type": "code",
   "execution_count": 7,
   "metadata": {},
   "outputs": [
    {
     "name": "stdout",
     "output_type": "stream",
     "text": [
      "Complete. Number of Tweets that have been cleaned and tokenized : 131562\n"
     ]
    }
   ],
   "source": [
    "df= clean_tweets(df)"
   ]
  },
  {
   "cell_type": "code",
   "execution_count": 8,
   "metadata": {},
   "outputs": [],
   "source": [
    "# drop duplicates after cleaning\n",
    "df.drop_duplicates(inplace=True, subset=\"clean_tweet\")"
   ]
  },
  {
   "cell_type": "code",
   "execution_count": 9,
   "metadata": {},
   "outputs": [
    {
     "data": {
      "text/plain": "0"
     },
     "execution_count": 9,
     "metadata": {},
     "output_type": "execute_result"
    }
   ],
   "source": [
    "# count the numbers of empty clean_tweet\n",
    "sum(df['clean_tweet'] == '')\n",
    "\n",
    "# # drop the row with empty value\n",
    "# df = df[df['clean_tweet'] != '']"
   ]
  },
  {
   "cell_type": "code",
   "execution_count": 69,
   "metadata": {},
   "outputs": [],
   "source": [
    "# Load spaCy model 'web_lg'\n",
    "nlp = en_core_web_lg.load()"
   ]
  },
  {
   "cell_type": "code",
   "execution_count": 70,
   "metadata": {},
   "outputs": [],
   "source": [
    "# # list of abstract\n",
    "DOCS = [i.strip().lower() for i in df.clean_tweet]\n",
    "\n",
    "# # # hyphen to underscores\n",
    "DOCS = [re.sub(r'\\b-\\b', '_', text) for text in DOCS]\n",
    "\n",
    "# # # transform Unicode whitespace characters to whitespace\n",
    "DOCS = [re.sub(r'[\\s]+', ' ', text) for text in DOCS]"
   ]
  },
  {
   "cell_type": "code",
   "execution_count": 71,
   "metadata": {},
   "outputs": [],
   "source": [
    "# Add additional stopwords\n",
    "stopwords =  ['electric', 'honda', 'toyota', 'vehicle', 'ev', 'electricvehicle', \n",
    "'electriccar', 'tesla', 'car', 'evs', 'fiat', 'bmw', '500e', 'hondae', \n",
    "'renaultzoe', 'smart', 'eq' , 'renault', 'zoe', 'nissan', 'amp', 'drive', \n",
    "'driver', 'mini', 'gt', 'cooper', 'minielectric', 'gm', 'electriccar', 'car', 'vw', \n",
    "'electricvehicle', 'drives', 'driving', 'vehicles', 'cars', 'electricvehicles', 'electriccars',\n",
    "'ford', '', 'hyundai', '£']\n",
    " \n",
    "for stopword in stopwords:\n",
    "    nlp.vocab[stopword].is_stop = True"
   ]
  },
  {
   "cell_type": "code",
   "execution_count": 73,
   "metadata": {},
   "outputs": [
    {
     "data": {
      "text/plain": "True"
     },
     "execution_count": 73,
     "metadata": {},
     "output_type": "execute_result"
    }
   ],
   "source": [
    "nlp.vocab['electriccars'].is_stop"
   ]
  },
  {
   "cell_type": "code",
   "execution_count": 74,
   "metadata": {},
   "outputs": [],
   "source": [
    "# Filter text\n",
    "DOCS_TOKENS, TMP_TOKENS = [], []\n",
    "\n",
    "for doc in DOCS:\n",
    "    TMP_TOKENS = [token.lemma_ for token in nlp(doc)\n",
    "                  if (token.is_stop == False)\n",
    "                  and (token.is_punct == False)\n",
    "                  and (token.like_num == False)] \n",
    "    DOCS_TOKENS.append(TMP_TOKENS)"
   ]
  },
  {
   "cell_type": "code",
   "execution_count": 75,
   "metadata": {},
   "outputs": [
    {
     "name": "stdout",
     "output_type": "stream",
     "text": [
      "139.20817959546565\n",
      "68.68658977414196\n",
      "309\n",
      "4\n"
     ]
    }
   ],
   "source": [
    "# Check length of docs\n",
    "length = []\n",
    "for doc in DOCS:\n",
    "    length.append(len(doc))\n",
    "\n",
    "print(np.mean(length))\n",
    "print(np.std(length))\n",
    "print(max(length))\n",
    "print(min(length))"
   ]
  },
  {
   "cell_type": "code",
   "execution_count": 76,
   "metadata": {},
   "outputs": [
    {
     "name": "stdout",
     "output_type": "stream",
     "text": [
      "original:\n",
      "enjoy every minute of city living with the compact #seatmii combining stylish looks frugal fuel consumption and the latest technology it proves that small can be spectacular\n",
      "Tokenized description:\n",
      "['enjoy', 'minute', 'city', 'live', 'compact', 'seatmii', 'combine', 'stylish', 'look', 'frugal', 'fuel', 'consumption', 'late', 'technology', 'prove', 'small', 'spectacular']\n",
      "Tri-grammed tokenised description:\n",
      "['enjoy', 'minute', 'city', 'live', 'compact', 'seatmii', 'combine', 'stylish', 'look', 'frugal', 'fuel', 'consumption', 'late', 'technology', 'prove', 'small', 'spectacular']\n"
     ]
    }
   ],
   "source": [
    "# Get rid of common terms\n",
    "COMMON_TERMS = [u'of', u'with', u'without', u'and', u'or', u'the', u'a',\n",
    "                u'not', 'be', u'to', u'this', u'who', u'in']\n",
    "\n",
    "# Find phrases\n",
    "BIGRAM = Phrases(DOCS_TOKENS,\n",
    "                 min_count=50,\n",
    "                 threshold=5,\n",
    "                 max_vocab_size=15000,\n",
    "                 common_terms=COMMON_TERMS)\n",
    "\n",
    "TRIGRAM = Phrases(BIGRAM[DOCS_TOKENS],\n",
    "                  min_count=50,\n",
    "                  threshold=5,\n",
    "                  max_vocab_size=15000,\n",
    "                  common_terms=COMMON_TERMS)\n",
    "\n",
    "DOCS_PHRASED = [TRIGRAM[BIGRAM[line]] for line in DOCS_TOKENS]\n",
    "\n",
    "# Check nlp pipeline\n",
    "print('original:', DOCS[0],\n",
    "      'Tokenized description:', DOCS_TOKENS[0],\n",
    "      'Tri-grammed tokenised description:', DOCS_PHRASED[0], sep='\\n')"
   ]
  },
  {
   "cell_type": "code",
   "execution_count": 77,
   "metadata": {},
   "outputs": [],
   "source": [
    "# create dictionary and text corpus\n",
    "'''\n",
    "overriding these transformations breaks reproducibility\n",
    "'''\n",
    "DICT = Dictionary(DOCS_PHRASED)\n",
    "CORPUS = [DICT.doc2bow(doc) for doc in DOCS_PHRASED]"
   ]
  },
  {
   "cell_type": "code",
   "execution_count": 29,
   "metadata": {},
   "outputs": [],
   "source": [
    "# pickle.dump(DOCS_TOKENS, open(\"/Users/nicole/Documents/ARP/code/DOCS_TOKENS.pkl\", \"wb\"))"
   ]
  },
  {
   "cell_type": "markdown",
   "metadata": {},
   "source": [
    "## topic modelling"
   ]
  },
  {
   "cell_type": "code",
   "execution_count": 78,
   "metadata": {},
   "outputs": [],
   "source": [
    "# Change the path with your own\n",
    "MALLET_PATH = '/Users/nicole/Desktop/CASS/term3/NLP/mallet-2.0.8/bin/mallet'\n",
    "\n",
    "# define function\n",
    "def compute_coherence_values(dictionary, corpus, texts, limit, start, step):\n",
    "    \"\"\"\n",
    "    Compute c_v coherence for various number of topics\n",
    "\n",
    "    Parameters:\n",
    "    -----------\n",
    "    dictionary : Gensim dictionary\n",
    "    corpus     : Gensim corpus\n",
    "    texts      : List of input texts\n",
    "    limit      : Max number of topics\n",
    "\n",
    "    Returns:\n",
    "    --------\n",
    "    model_list       : List of LDA topic models\n",
    "    coherence_values : Coherence values corresponding to the LDA model\n",
    "                       with respective number of topics\n",
    "    \"\"\"\n",
    "    coherence_values = []\n",
    "    model_list = []\n",
    "    mallet_path = MALLET_PATH\n",
    "    for num_topics in range(start, limit, step):\n",
    "        model = gensim.models.wrappers.LdaMallet(mallet_path,\n",
    "                                                 corpus=corpus,\n",
    "                                                 num_topics=num_topics,\n",
    "                                                 id2word=dictionary,\n",
    "                                                 random_seed=123)\n",
    "        model_list.append(model)\n",
    "        coherencemodel = CoherenceModel(model=model,\n",
    "                                        texts=texts,\n",
    "                                        dictionary=dictionary,\n",
    "                                        coherence='c_v')\n",
    "        coherence_values.append(coherencemodel.get_coherence())\n",
    "\n",
    "    return model_list, coherence_values"
   ]
  },
  {
   "cell_type": "code",
   "execution_count": 79,
   "metadata": {},
   "outputs": [],
   "source": [
    "# Collect coherence scores as the number of retained topics change\n",
    "LIMIT, START, STEP = 15, 1, 1\n",
    "MODEL_LIST, COHER_VALS = compute_coherence_values(dictionary=DICT,\n",
    "                                                  corpus=CORPUS,\n",
    "                                                  texts=DOCS_PHRASED,\n",
    "                                                  start=START,\n",
    "                                                  limit=LIMIT,\n",
    "                                                  step=STEP)"
   ]
  },
  {
   "cell_type": "code",
   "execution_count": 81,
   "metadata": {},
   "outputs": [
    {
     "data": {
      "image/png": "[encoded data removed]",
      "text/plain": "<Figure size 576x432 with 1 Axes>"
     },
     "metadata": {
      "needs_background": "light"
     },
     "output_type": "display_data"
    }
   ],
   "source": [
    "import matplotlib.pyplot as plt\n",
    "\n",
    "# Plot collected coherence scores data\n",
    "# data series\n",
    "X = range(START, LIMIT, STEP)\n",
    "Y = COHER_VALS\n",
    "\n",
    "# create figure\n",
    "FIG = plt.figure(figsize=(8, 6))\n",
    "AX = FIG.add_subplot(1, 1, 1)\n",
    "\n",
    "# plot data\n",
    "AX.plot(X, Y, marker='o', color='b', ls='-')\n",
    "\n",
    "# axes\n",
    "AX.set_xlabel(\"Number of topics retained\")\n",
    "AX.set_ylabel(\"Coherence score\")\n",
    "AX.set_xticks(np.arange(0,20,1))\n",
    "\n",
    "# reference line\n",
    "AX.axvline(x=10, ymin=0, ymax=1, color='r')\n",
    "\n",
    "# grid\n",
    "AX.grid(True, ls='--')\n",
    "\n",
    "plt.show()"
   ]
  },
  {
   "cell_type": "code",
   "execution_count": 82,
   "metadata": {},
   "outputs": [
    {
     "data": {
      "text/plain": "[(0,\n  '0.022*\"build\" + 0.022*\"uk\" + 0.019*\"start\" + 0.016*\"truck\" + 0.014*\"engine\" + 0.013*\"diesel\" + 0.010*\"production\" + 0.009*\"plant\" + 0.009*\"close\" + 0.008*\"change\"'),\n (1,\n  '0.082*\"battery\" + 0.036*\"market\" + 0.025*\"china\" + 0.019*\"lithium\" + 0.017*\"company\" + 0.014*\"share\" + 0.012*\"report\" + 0.011*\"tsla\" + 0.011*\"demand\" + 0.010*\"invest\"'),\n (2,\n  '0.100*\"charge\" + 0.020*\"station\" + 0.018*\"charger\" + 0.016*\"fast\" + 0.015*\"point\" + 0.015*\"home\" + 0.014*\"fleet\" + 0.014*\"india\" + 0.012*\"infrastructure\" + 0.011*\"service\"'),\n (3,\n  '0.030*\"energy\" + 0.021*\"renewable\" + 0.019*\"mobility\" + 0.019*\"fuel\" + 0.017*\"green\" + 0.017*\"emission\" + 0.017*\"renewableenergy\" + 0.017*\"solar\" + 0.016*\"power\" + 0.014*\"climatechange\"'),\n (4,\n  '0.032*\"auto\" + 0.029*\"motor\" + 0.026*\"future\" + 0.025*\"automotive\" + 0.024*\"news\" + 0.021*\"read\" + 0.020*\"tech\" + 0.020*\"plan\" + 0.018*\"launch\" + 0.016*\"technology\"'),\n (5,\n  '0.053*\"year\" + 0.033*\"hybrid\" + 0.032*\"buy\" + 0.027*\"video\" + 0.025*\"price\" + 0.021*\"cost\" + 0.018*\"time\" + 0.016*\"gas\" + 0.016*\"people\" + 0.015*\"month\"'),\n (6,\n  '0.033*\"good\" + 0.030*\"great\" + 0.021*\"day\" + 0.021*\"love\" + 0.019*\"work\" + 0.018*\"review\" + 0.013*\"time\" + 0.013*\"world\" + 0.011*\"watch\" + 0.011*\"thing\"'),\n (7,\n  '0.029*\"today\" + 0.028*\"️\" + 0.022*\"find\" + 0.022*\"test\" + 0.016*\"week\" + 0.014*\"post\" + 0.013*\"win\" + 0.013*\"free\" + 0.013*\"charging\" + 0.013*\"check\"'),\n (8,\n  '0.018*\"design\" + 0.017*\"power\" + 0.017*\"city\" + 0.014*\"fully\" + 0.011*\"lead\" + 0.010*\"detail\" + 0.010*\"feature\" + 0.010*\"small\" + 0.010*\"ride\" + 0.010*\"scooter\"'),\n (9,\n  '0.057*\"range\" + 0.046*\"model\" + 0.041*\"mile\" + 0.037*\"sale\" + 0.026*\"sell\" + 0.022*\"europe\" + 0.022*\"km\" + 0.020*\"plug\" + 0.020*\"leaf\" + 0.020*\"long\"')]"
     },
     "execution_count": 82,
     "metadata": {},
     "output_type": "execute_result"
    }
   ],
   "source": [
    "N_TOPICS = 10\n",
    "LDA_MALLET = gensim.models.wrappers.LdaMallet(MALLET_PATH,\n",
    "                                              corpus=CORPUS,\n",
    "                                              num_topics=N_TOPICS,\n",
    "                                              id2word=DICT,\n",
    "                                              random_seed=123)\n",
    "\n",
    "LDA_MALLET.print_topics(num_topics=N_TOPICS, num_words=10)\n"
   ]
  },
  {
   "cell_type": "code",
   "execution_count": null,
   "metadata": {},
   "outputs": [],
   "source": []
  },
  {
   "cell_type": "code",
   "execution_count": 83,
   "metadata": {},
   "outputs": [
    {
     "data": {
      "image/png": "[encoded data removed]",
      "text/plain": "<Figure size 432x288 with 1 Axes>"
     },
     "metadata": {
      "needs_background": "light"
     },
     "output_type": "display_data"
    }
   ],
   "source": [
    "from wordcloud import WordCloud\n",
    "\n",
    "#Generate topic word clouds\n",
    "topic = 0 # Initialize counter\n",
    "\n",
    "NUM_topics = 10\n",
    "\n",
    "while topic < NUM_topics:\n",
    "    topic_words_freq = dict(LDA_MALLET.show_topic(topic, topn=50))\n",
    "    topic += 1    \n",
    "    # Generate Word Cloud for topic using frequencies\n",
    "    wordcloud = WordCloud(background_color=\"white\", colormap='binary').generate_from_frequencies(topic_words_freq) \n",
    "    plt.imshow(wordcloud, interpolation='bilinear')\n",
    "    plt.axis(\"off\")\n",
    "    plt.savefig('general_' + str(topic) + '.png')"
   ]
  },
  {
   "cell_type": "code",
   "execution_count": 84,
   "metadata": {},
   "outputs": [],
   "source": [
    "# save the result\n",
    "import pickle\n",
    "pickle.dump(LDA_MALLET, open(\"/Users/nicole/Documents/ARP/code/topic_10.pkl\", \"wb\"))"
   ]
  },
  {
   "cell_type": "markdown",
   "metadata": {},
   "source": [
    "## topic modelling result"
   ]
  },
  {
   "cell_type": "code",
   "execution_count": null,
   "metadata": {},
   "outputs": [],
   "source": [
    "# load the result \n",
    "\n",
    "# LDA_MALLET = pickle.load(open(\"/Users/nicole/Documents/ARP/code/ldamallet_8.pkl\", \"rb\"))"
   ]
  },
  {
   "cell_type": "code",
   "execution_count": 86,
   "metadata": {},
   "outputs": [],
   "source": [
    "## MDS\n",
    "# Translate topic modeling outcome\n",
    "LDA_MALLET_G = gensim.models.wrappers.ldamallet.malletmodel2ldamodel(LDA_MALLET)\n",
    "\n",
    "# Get transformed corpus as per the LDA model\n",
    "TRANSF_CORPUS = LDA_MALLET_G.get_document_topics(CORPUS)\n",
    "\n",
    "# Rearrange data on document-topic pairs probabilities\n",
    "DOC_TOPIC_M = []\n",
    "\n",
    "for id, doc in enumerate(TRANSF_CORPUS):\n",
    "    for topic in np.arange(len(doc)):\n",
    "        topic_n = doc[topic][0]\n",
    "        topic_prob = doc[topic][1]\n",
    "        DOC_TOPIC_M.append([id, topic, topic_prob])\n",
    "\n",
    "DF = pd.DataFrame(DOC_TOPIC_M)\n"
   ]
  },
  {
   "cell_type": "code",
   "execution_count": 87,
   "metadata": {},
   "outputs": [
    {
     "data": {
      "text/html": "<div>\n<style scoped>\n    .dataframe tbody tr th:only-of-type {\n        vertical-align: middle;\n    }\n\n    .dataframe tbody tr th {\n        vertical-align: top;\n    }\n\n    .dataframe thead th {\n        text-align: right;\n    }\n</style>\n<table border=\"1\" class=\"dataframe\">\n  <thead>\n    <tr style=\"text-align: right;\">\n      <th></th>\n      <th>doc_id</th>\n      <th>topic_n</th>\n      <th>prob</th>\n    </tr>\n  </thead>\n  <tbody>\n    <tr>\n      <th>0</th>\n      <td>0</td>\n      <td>0</td>\n      <td>0.075758</td>\n    </tr>\n    <tr>\n      <th>1</th>\n      <td>0</td>\n      <td>1</td>\n      <td>0.075758</td>\n    </tr>\n    <tr>\n      <th>2</th>\n      <td>0</td>\n      <td>2</td>\n      <td>0.078042</td>\n    </tr>\n    <tr>\n      <th>3</th>\n      <td>0</td>\n      <td>3</td>\n      <td>0.128218</td>\n    </tr>\n    <tr>\n      <th>4</th>\n      <td>0</td>\n      <td>4</td>\n      <td>0.096870</td>\n    </tr>\n    <tr>\n      <th>...</th>\n      <td>...</td>\n      <td>...</td>\n      <td>...</td>\n    </tr>\n    <tr>\n      <th>1124745</th>\n      <td>112474</td>\n      <td>5</td>\n      <td>0.104294</td>\n    </tr>\n    <tr>\n      <th>1124746</th>\n      <td>112474</td>\n      <td>6</td>\n      <td>0.151332</td>\n    </tr>\n    <tr>\n      <th>1124747</th>\n      <td>112474</td>\n      <td>7</td>\n      <td>0.087415</td>\n    </tr>\n    <tr>\n      <th>1124748</th>\n      <td>112474</td>\n      <td>8</td>\n      <td>0.102557</td>\n    </tr>\n    <tr>\n      <th>1124749</th>\n      <td>112474</td>\n      <td>9</td>\n      <td>0.101325</td>\n    </tr>\n  </tbody>\n</table>\n<p>1124750 rows × 3 columns</p>\n</div>",
      "text/plain": "         doc_id  topic_n      prob\n0             0        0  0.075758\n1             0        1  0.075758\n2             0        2  0.078042\n3             0        3  0.128218\n4             0        4  0.096870\n...         ...      ...       ...\n1124745  112474        5  0.104294\n1124746  112474        6  0.151332\n1124747  112474        7  0.087415\n1124748  112474        8  0.102557\n1124749  112474        9  0.101325\n\n[1124750 rows x 3 columns]"
     },
     "execution_count": 87,
     "metadata": {},
     "output_type": "execute_result"
    }
   ],
   "source": [
    "# rename columns\n",
    "OLD_NAMES = [0, 1, 2]\n",
    "NEW_NAMES = ['doc_id', 'topic_n', 'prob']\n",
    "COLS = dict(zip(OLD_NAMES, NEW_NAMES))\n",
    "DF.rename(columns=COLS, inplace=True)\n",
    "DF"
   ]
  },
  {
   "cell_type": "code",
   "execution_count": 88,
   "metadata": {},
   "outputs": [
    {
     "name": "stderr",
     "output_type": "stream",
     "text": [
      "ipykernel_launcher:6: SettingWithCopyWarning: \n",
      "A value is trying to be set on a copy of a slice from a DataFrame\n",
      "\n",
      "See the caveats in the documentation: https://pandas.pydata.org/pandas-docs/stable/user_guide/indexing.html#returning-a-view-versus-a-copy\n"
     ]
    },
    {
     "data": {
      "text/html": "<div>\n<style scoped>\n    .dataframe tbody tr th:only-of-type {\n        vertical-align: middle;\n    }\n\n    .dataframe tbody tr th {\n        vertical-align: top;\n    }\n\n    .dataframe thead th {\n        text-align: right;\n    }\n</style>\n<table border=\"1\" class=\"dataframe\">\n  <thead>\n    <tr style=\"text-align: right;\">\n      <th></th>\n      <th>doc_id</th>\n      <th>topic_n</th>\n      <th>prob</th>\n      <th>max</th>\n      <th>first_topic</th>\n    </tr>\n  </thead>\n  <tbody>\n    <tr>\n      <th>0</th>\n      <td>0</td>\n      <td>8</td>\n      <td>0.143547</td>\n      <td>0.143547</td>\n      <td>1</td>\n    </tr>\n    <tr>\n      <th>1</th>\n      <td>1</td>\n      <td>6</td>\n      <td>0.142570</td>\n      <td>0.142570</td>\n      <td>1</td>\n    </tr>\n    <tr>\n      <th>2</th>\n      <td>2</td>\n      <td>7</td>\n      <td>0.190452</td>\n      <td>0.190452</td>\n      <td>1</td>\n    </tr>\n    <tr>\n      <th>3</th>\n      <td>3</td>\n      <td>9</td>\n      <td>0.142857</td>\n      <td>0.142857</td>\n      <td>1</td>\n    </tr>\n    <tr>\n      <th>4</th>\n      <td>4</td>\n      <td>7</td>\n      <td>0.215336</td>\n      <td>0.215336</td>\n      <td>1</td>\n    </tr>\n    <tr>\n      <th>...</th>\n      <td>...</td>\n      <td>...</td>\n      <td>...</td>\n      <td>...</td>\n      <td>...</td>\n    </tr>\n    <tr>\n      <th>112470</th>\n      <td>112470</td>\n      <td>0</td>\n      <td>0.152645</td>\n      <td>0.152645</td>\n      <td>1</td>\n    </tr>\n    <tr>\n      <th>112471</th>\n      <td>112471</td>\n      <td>0</td>\n      <td>0.129630</td>\n      <td>0.129630</td>\n      <td>1</td>\n    </tr>\n    <tr>\n      <th>112472</th>\n      <td>112472</td>\n      <td>9</td>\n      <td>0.115385</td>\n      <td>0.115385</td>\n      <td>1</td>\n    </tr>\n    <tr>\n      <th>112473</th>\n      <td>112473</td>\n      <td>5</td>\n      <td>0.153403</td>\n      <td>0.153403</td>\n      <td>1</td>\n    </tr>\n    <tr>\n      <th>112474</th>\n      <td>112474</td>\n      <td>6</td>\n      <td>0.151332</td>\n      <td>0.151332</td>\n      <td>1</td>\n    </tr>\n  </tbody>\n</table>\n<p>112475 rows × 5 columns</p>\n</div>",
      "text/plain": "        doc_id  topic_n      prob       max  first_topic\n0            0        8  0.143547  0.143547            1\n1            1        6  0.142570  0.142570            1\n2            2        7  0.190452  0.190452            1\n3            3        9  0.142857  0.142857            1\n4            4        7  0.215336  0.215336            1\n...        ...      ...       ...       ...          ...\n112470  112470        0  0.152645  0.152645            1\n112471  112471        0  0.129630  0.129630            1\n112472  112472        9  0.115385  0.115385            1\n112473  112473        5  0.153403  0.153403            1\n112474  112474        6  0.151332  0.151332            1\n\n[112475 rows x 5 columns]"
     },
     "execution_count": 88,
     "metadata": {},
     "output_type": "execute_result"
    }
   ],
   "source": [
    "GR = DF.groupby('doc_id')\n",
    "DF.loc[:, 'max'] = GR['prob'].transform(np.max)\n",
    "DF.loc[:, 'first_topic'] = 0\n",
    "DF.loc[DF['prob'] == DF['max'], 'first_topic'] = 1\n",
    "FIRST_TOPIC = DF.loc[DF['first_topic'] == 1]\n",
    "FIRST_TOPIC.drop_duplicates('doc_id', keep='first', inplace=True)\n",
    "FIRST_TOPIC.reset_index(drop=True, inplace=True)\n",
    "FIRST_TOPIC"
   ]
  },
  {
   "cell_type": "code",
   "execution_count": 89,
   "metadata": {},
   "outputs": [
    {
     "data": {
      "text/plain": "0     9964\n1    10721\n2    11560\n3    11834\n4    11982\n5    11322\n6    11564\n7    11530\n8     9709\n9    12289\nName: topic_n, dtype: int64"
     },
     "execution_count": 89,
     "metadata": {},
     "output_type": "execute_result"
    }
   ],
   "source": [
    "FIRST_TOPIC['topic_n'].value_counts(sort = False)"
   ]
  },
  {
   "cell_type": "code",
   "execution_count": 90,
   "metadata": {},
   "outputs": [],
   "source": [
    "df.reset_index(drop=True, inplace=True)"
   ]
  },
  {
   "cell_type": "code",
   "execution_count": 91,
   "metadata": {},
   "outputs": [],
   "source": [
    "df1 = pd.concat([df, FIRST_TOPIC], axis=1)"
   ]
  },
  {
   "cell_type": "code",
   "execution_count": 94,
   "metadata": {},
   "outputs": [
    {
     "data": {
      "text/plain": "8    1104\n5     835\n6     740\n9     502\n7     403\n4     359\n0     328\n2     214\n1     163\n3     146\nName: topic_n, dtype: int64"
     },
     "execution_count": 94,
     "metadata": {},
     "output_type": "execute_result"
    }
   ],
   "source": [
    "df1[df1['brand'] == 'fiat']['topic_n'].value_counts()"
   ]
  },
  {
   "cell_type": "markdown",
   "metadata": {},
   "source": [
    "## sementic axis"
   ]
  },
  {
   "cell_type": "code",
   "execution_count": 96,
   "metadata": {},
   "outputs": [],
   "source": [
    "from scipy import spatial\n",
    "inquire = pd.read_excel(\"inquireraugmented.xls\",\n",
    "                        usecols=['Entry', 'Positiv', 'Negativ'])\n",
    "inquire.drop(index=0, inplace=True)\n",
    "inquire.reset_index(drop=True, inplace=True)"
   ]
  },
  {
   "cell_type": "code",
   "execution_count": 97,
   "metadata": {},
   "outputs": [],
   "source": [
    "# custom function that creates a semantic axis from a sample\n",
    "# of words coming from the General Inquirer\n",
    "pos_ = inquire.loc[inquire[\"Positiv\"].notnull(), \"Entry\"].to_list()\n",
    "neg_ = inquire.loc[inquire[\"Negativ\"].notnull(), \"Entry\"].to_list()"
   ]
  },
  {
   "cell_type": "code",
   "execution_count": 98,
   "metadata": {},
   "outputs": [],
   "source": [
    "# get the affect score for a sample of unseen words\n",
    "def semantic_ax(word_list, vector_len=300):\n",
    "    wv = {}\n",
    "    # step 2, get the word vectors\n",
    "    for word in word_list:\n",
    "        wv[word] = nlp.vocab[word].vector\n",
    "    # step 3, get the centroid of each pole\n",
    "    centroid = []\n",
    "    for i in range(vector_len):\n",
    "        dimension = [wv[word][i] for word in wv.keys()]\n",
    "        centroid.extend([np.mean(dimension)])\n",
    "    # return data\n",
    "    return wv, np.array(centroid)\n",
    "\n",
    "\n",
    "pos_wv, pos_centroid = semantic_ax(pos_)\n",
    "neg_wv, neg_centroid = semantic_ax(neg_)"
   ]
  },
  {
   "cell_type": "code",
   "execution_count": 99,
   "metadata": {},
   "outputs": [],
   "source": [
    "# step 4, get the semantic axis\n",
    "my_ax_1 = pos_centroid - neg_centroid"
   ]
  },
  {
   "cell_type": "code",
   "execution_count": 100,
   "metadata": {},
   "outputs": [],
   "source": [
    "all_words = []\n",
    "for word in DOCS_TOKENS:\n",
    "    for i in word:\n",
    "        all_words.append(i)\n",
    "\n",
    "all_words = list(set(all_words))"
   ]
  },
  {
   "cell_type": "code",
   "execution_count": 101,
   "metadata": {},
   "outputs": [
    {
     "data": {
      "text/plain": "69728"
     },
     "execution_count": 101,
     "metadata": {},
     "output_type": "execute_result"
    }
   ],
   "source": [
    "len(all_words)"
   ]
  },
  {
   "cell_type": "code",
   "execution_count": 103,
   "metadata": {},
   "outputs": [
    {
     "name": "stderr",
     "output_type": "stream",
     "text": [
      "/opt/anaconda3/envs/FCA3-env/lib/python3.6/site-packages/scipy/spatial/distance.py:714: RuntimeWarning: invalid value encountered in float_scalars\n",
      "  dist = 1.0 - uv / np.sqrt(uu * vv)\n"
     ]
    },
    {
     "data": {
      "text/html": "<div>\n<style scoped>\n    .dataframe tbody tr th:only-of-type {\n        vertical-align: middle;\n    }\n\n    .dataframe tbody tr th {\n        vertical-align: top;\n    }\n\n    .dataframe thead th {\n        text-align: right;\n    }\n</style>\n<table border=\"1\" class=\"dataframe\">\n  <thead>\n    <tr style=\"text-align: right;\">\n      <th></th>\n      <th>words</th>\n      <th>pos</th>\n    </tr>\n  </thead>\n  <tbody>\n    <tr>\n      <th>0</th>\n      <td>foglights</td>\n      <td>-0.118943</td>\n    </tr>\n    <tr>\n      <th>1</th>\n      <td>mucky</td>\n      <td>-0.147185</td>\n    </tr>\n    <tr>\n      <th>2</th>\n      <td>tarnish</td>\n      <td>-0.119557</td>\n    </tr>\n    <tr>\n      <th>3</th>\n      <td>maclean</td>\n      <td>-0.142717</td>\n    </tr>\n    <tr>\n      <th>4</th>\n      <td>alcohol</td>\n      <td>-0.068086</td>\n    </tr>\n    <tr>\n      <th>...</th>\n      <td>...</td>\n      <td>...</td>\n    </tr>\n    <tr>\n      <th>30622</th>\n      <td>rainy</td>\n      <td>-0.046298</td>\n    </tr>\n    <tr>\n      <th>30623</th>\n      <td>perso</td>\n      <td>0.010697</td>\n    </tr>\n    <tr>\n      <th>30624</th>\n      <td>europe</td>\n      <td>0.025493</td>\n    </tr>\n    <tr>\n      <th>30625</th>\n      <td>track</td>\n      <td>0.111722</td>\n    </tr>\n    <tr>\n      <th>30626</th>\n      <td>fetch</td>\n      <td>0.019162</td>\n    </tr>\n  </tbody>\n</table>\n<p>30627 rows × 2 columns</p>\n</div>",
      "text/plain": "           words       pos\n0      foglights -0.118943\n1          mucky -0.147185\n2        tarnish -0.119557\n3        maclean -0.142717\n4        alcohol -0.068086\n...          ...       ...\n30622      rainy -0.046298\n30623      perso  0.010697\n30624     europe  0.025493\n30625      track  0.111722\n30626      fetch  0.019162\n\n[30627 rows x 2 columns]"
     },
     "execution_count": 103,
     "metadata": {},
     "output_type": "execute_result"
    }
   ],
   "source": [
    "# supoort & non-support (Affil & Hostile)\n",
    "all_pos = []\n",
    "for word in all_words:\n",
    "    if nlp.vocab[word].vector is not None:\n",
    "        pos = 1 - spatial.distance.cosine(my_ax_1, nlp.vocab[word].vector)\n",
    "        all_pos.append(pos)\n",
    "\n",
    "dict_1 = pd.DataFrame({'words':all_words, 'pos':all_pos})\n",
    "dict_1.dropna(inplace=True)\n",
    "dict_1.reset_index(inplace=True)\n",
    "dict_1.drop(columns=['index'], inplace=True)\n",
    "dict_1"
   ]
  },
  {
   "cell_type": "code",
   "execution_count": 104,
   "metadata": {},
   "outputs": [],
   "source": [
    "# assign sentiment class (support or non support)\n",
    "dict_1 = dict_1.assign(classification=[1 if x >0 else -1 for x in dict_1['pos']])"
   ]
  },
  {
   "cell_type": "code",
   "execution_count": 105,
   "metadata": {},
   "outputs": [],
   "source": [
    "pickle.dump(dict_1, open('/Users/nicole/Documents/ARP/code/dict_1.pkl', 'wb'))"
   ]
  },
  {
   "cell_type": "code",
   "execution_count": 107,
   "metadata": {},
   "outputs": [],
   "source": [
    "df2 = df1[['date', 'month_year', 'tweet', 'brand', 'clean_tweet', 'topic_n', 'prob']]"
   ]
  },
  {
   "cell_type": "code",
   "execution_count": 108,
   "metadata": {},
   "outputs": [
    {
     "name": "stderr",
     "output_type": "stream",
     "text": [
      "ipykernel_launcher:1: SettingWithCopyWarning: \n",
      "A value is trying to be set on a copy of a slice from a DataFrame.\n",
      "Try using .loc[row_indexer,col_indexer] = value instead\n",
      "\n",
      "See the caveats in the documentation: https://pandas.pydata.org/pandas-docs/stable/user_guide/indexing.html#returning-a-view-versus-a-copy\n"
     ]
    }
   ],
   "source": [
    "df2['token'] = DOCS_TOKENS"
   ]
  },
  {
   "cell_type": "code",
   "execution_count": 109,
   "metadata": {},
   "outputs": [
    {
     "data": {
      "text/html": "<div>\n<style scoped>\n    .dataframe tbody tr th:only-of-type {\n        vertical-align: middle;\n    }\n\n    .dataframe tbody tr th {\n        vertical-align: top;\n    }\n\n    .dataframe thead th {\n        text-align: right;\n    }\n</style>\n<table border=\"1\" class=\"dataframe\">\n  <thead>\n    <tr style=\"text-align: right;\">\n      <th></th>\n      <th>date</th>\n      <th>month_year</th>\n      <th>tweet</th>\n      <th>brand</th>\n      <th>clean_tweet</th>\n      <th>topic_n</th>\n      <th>prob</th>\n      <th>token</th>\n    </tr>\n  </thead>\n  <tbody>\n    <tr>\n      <th>0</th>\n      <td>2018-11-03</td>\n      <td>2018-11</td>\n      <td>Enjoy every minute of city living with the com...</td>\n      <td>seat</td>\n      <td>enjoy every minute of city living with the com...</td>\n      <td>8</td>\n      <td>0.143547</td>\n      <td>[enjoy, minute, city, live, compact, seatmii, ...</td>\n    </tr>\n    <tr>\n      <th>1</th>\n      <td>2018-11-26</td>\n      <td>2018-11</td>\n      <td>Recent move: We took this #SeatMii to a film s...</td>\n      <td>seat</td>\n      <td>recent move we took this #seatmii to a film st...</td>\n      <td>6</td>\n      <td>0.142570</td>\n      <td>[recent, take, seatmii, film, studio, good, ca...</td>\n    </tr>\n    <tr>\n      <th>2</th>\n      <td>2019-01-17</td>\n      <td>2019-01</td>\n      <td>What a great start to a Thursday morning! Cong...</td>\n      <td>seat</td>\n      <td>what a great start to a thursday morning congr...</td>\n      <td>7</td>\n      <td>0.190452</td>\n      <td>[great, start, thursday, morning, congratulati...</td>\n    </tr>\n    <tr>\n      <th>3</th>\n      <td>2019-01-29</td>\n      <td>2019-01</td>\n      <td>Someone else had been lucky in an @AutoExpress...</td>\n      <td>seat</td>\n      <td>someone else had been lucky in an competition ...</td>\n      <td>9</td>\n      <td>0.142857</td>\n      <td>[lucky, competition, seatuk, seat, mii, seatmi...</td>\n    </tr>\n    <tr>\n      <th>4</th>\n      <td>2019-01-31</td>\n      <td>2019-01</td>\n      <td>We have the new #SEATMii available now with 0%...</td>\n      <td>seat</td>\n      <td>we have the new #seatmii available now with 0 ...</td>\n      <td>7</td>\n      <td>0.215336</td>\n      <td>[new, seatmii, available, apr, representative,...</td>\n    </tr>\n  </tbody>\n</table>\n</div>",
      "text/plain": "         date month_year                                              tweet  \\\n0  2018-11-03    2018-11  Enjoy every minute of city living with the com...   \n1  2018-11-26    2018-11  Recent move: We took this #SeatMii to a film s...   \n2  2019-01-17    2019-01  What a great start to a Thursday morning! Cong...   \n3  2019-01-29    2019-01  Someone else had been lucky in an @AutoExpress...   \n4  2019-01-31    2019-01  We have the new #SEATMii available now with 0%...   \n\n  brand                                        clean_tweet  topic_n      prob  \\\n0  seat  enjoy every minute of city living with the com...        8  0.143547   \n1  seat  recent move we took this #seatmii to a film st...        6  0.142570   \n2  seat  what a great start to a thursday morning congr...        7  0.190452   \n3  seat  someone else had been lucky in an competition ...        9  0.142857   \n4  seat  we have the new #seatmii available now with 0 ...        7  0.215336   \n\n                                               token  \n0  [enjoy, minute, city, live, compact, seatmii, ...  \n1  [recent, take, seatmii, film, studio, good, ca...  \n2  [great, start, thursday, morning, congratulati...  \n3  [lucky, competition, seatuk, seat, mii, seatmi...  \n4  [new, seatmii, available, apr, representative,...  "
     },
     "execution_count": 109,
     "metadata": {},
     "output_type": "execute_result"
    }
   ],
   "source": [
    "df2.head()"
   ]
  },
  {
   "cell_type": "code",
   "execution_count": 110,
   "metadata": {},
   "outputs": [],
   "source": [
    "# pickle.dump(df2, open(\"/Users/nicole/Documents/ARP/code/df2.pkl\", \"wb\"))"
   ]
  },
  {
   "cell_type": "code",
   "execution_count": 9,
   "metadata": {},
   "outputs": [],
   "source": [
    "# df2 = pickle.load(open(\"/Users/nicole/Documents/ARP/code/df2.pkl\", \"rb\"))\n",
    "# dict_1 = pickle.load(open(\"/Users/nicole/Documents/ARP/code/dict_1.pkl\", \"rb\"))"
   ]
  },
  {
   "cell_type": "code",
   "execution_count": 111,
   "metadata": {},
   "outputs": [],
   "source": [
    "# define a function for calculating comments' scores\n",
    "def get_score(dict_, df_):\n",
    "    score = []\n",
    "    for word in df_['token']:\n",
    "        line_score = []\n",
    "        for w in word:\n",
    "            if w in list(dict_['words']):\n",
    "                pos = dict_[dict_['words'] == w]['pos']\n",
    "                line_score.append(pos)\n",
    "        score.append(np.mean(line_score))\n",
    "    df_['score'] = score"
   ]
  },
  {
   "cell_type": "code",
   "execution_count": 112,
   "metadata": {},
   "outputs": [],
   "source": [
    "# define a function to get sentiment class\n",
    "\n",
    "def get_class(dict_, df_):\n",
    "    score = []\n",
    "    for word in df_['token']:\n",
    "        line_score = []\n",
    "        for w in word:\n",
    "            if w in list(dict_['words']):\n",
    "                pos = dict_[dict_['words'] == w]['classification']\n",
    "                line_score.append(pos)\n",
    "        score.append(np.sum(line_score))\n",
    "    df_['class'] = score"
   ]
  },
  {
   "cell_type": "code",
   "execution_count": 113,
   "metadata": {},
   "outputs": [
    {
     "name": "stdout",
     "output_type": "stream",
     "text": [
      "seat\n"
     ]
    },
    {
     "name": "stderr",
     "output_type": "stream",
     "text": [
      "ipykernel_launcher:11: SettingWithCopyWarning: \n",
      "A value is trying to be set on a copy of a slice from a DataFrame.\n",
      "Try using .loc[row_indexer,col_indexer] = value instead\n",
      "\n",
      "See the caveats in the documentation: https://pandas.pydata.org/pandas-docs/stable/user_guide/indexing.html#returning-a-view-versus-a-copy\n"
     ]
    },
    {
     "name": "stdout",
     "output_type": "stream",
     "text": [
      "mini\n"
     ]
    },
    {
     "name": "stderr",
     "output_type": "stream",
     "text": [
      "/opt/anaconda3/envs/FCA3-env/lib/python3.6/site-packages/numpy/core/fromnumeric.py:3373: RuntimeWarning: Mean of empty slice.\n",
      "  out=out, **kwargs)\n",
      "/opt/anaconda3/envs/FCA3-env/lib/python3.6/site-packages/numpy/core/_methods.py:170: RuntimeWarning: invalid value encountered in double_scalars\n",
      "  ret = ret.dtype.type(ret / rcount)\n"
     ]
    },
    {
     "name": "stdout",
     "output_type": "stream",
     "text": [
      "smart\n",
      "hondae\n",
      "ev\n",
      "renault\n",
      "fiat\n"
     ]
    }
   ],
   "source": [
    "df3 = []\n",
    "\n",
    "for i in list(df2['brand'].unique()):\n",
    "    print(i)\n",
    "    df_tmp = df2[df2['brand'] == i]\n",
    "    get_score(dict_1, df_tmp)\n",
    "    df3.append(df_tmp)"
   ]
  },
  {
   "cell_type": "code",
   "execution_count": 114,
   "metadata": {},
   "outputs": [],
   "source": [
    "df_score = pd.concat(df3)\n"
   ]
  },
  {
   "cell_type": "code",
   "execution_count": 115,
   "metadata": {},
   "outputs": [],
   "source": [
    "get_class(dict_1, df_score)"
   ]
  },
  {
   "cell_type": "code",
   "execution_count": 116,
   "metadata": {},
   "outputs": [
    {
     "data": {
      "text/html": "<div>\n<style scoped>\n    .dataframe tbody tr th:only-of-type {\n        vertical-align: middle;\n    }\n\n    .dataframe tbody tr th {\n        vertical-align: top;\n    }\n\n    .dataframe thead th {\n        text-align: right;\n    }\n</style>\n<table border=\"1\" class=\"dataframe\">\n  <thead>\n    <tr style=\"text-align: right;\">\n      <th></th>\n      <th>date</th>\n      <th>month_year</th>\n      <th>tweet</th>\n      <th>brand</th>\n      <th>clean_tweet</th>\n      <th>topic_n</th>\n      <th>prob</th>\n      <th>token</th>\n      <th>score</th>\n      <th>class</th>\n    </tr>\n  </thead>\n  <tbody>\n    <tr>\n      <th>0</th>\n      <td>2018-11-03</td>\n      <td>2018-11</td>\n      <td>Enjoy every minute of city living with the com...</td>\n      <td>seat</td>\n      <td>enjoy every minute of city living with the com...</td>\n      <td>8</td>\n      <td>0.143547</td>\n      <td>[enjoy, minute, city, live, compact, seatmii, ...</td>\n      <td>0.145963</td>\n      <td>16.0</td>\n    </tr>\n    <tr>\n      <th>1</th>\n      <td>2018-11-26</td>\n      <td>2018-11</td>\n      <td>Recent move: We took this #SeatMii to a film s...</td>\n      <td>seat</td>\n      <td>recent move we took this #seatmii to a film st...</td>\n      <td>6</td>\n      <td>0.142570</td>\n      <td>[recent, take, seatmii, film, studio, good, ca...</td>\n      <td>0.133016</td>\n      <td>6.0</td>\n    </tr>\n    <tr>\n      <th>2</th>\n      <td>2019-01-17</td>\n      <td>2019-01</td>\n      <td>What a great start to a Thursday morning! Cong...</td>\n      <td>seat</td>\n      <td>what a great start to a thursday morning congr...</td>\n      <td>7</td>\n      <td>0.190452</td>\n      <td>[great, start, thursday, morning, congratulati...</td>\n      <td>0.071265</td>\n      <td>7.0</td>\n    </tr>\n    <tr>\n      <th>3</th>\n      <td>2019-01-29</td>\n      <td>2019-01</td>\n      <td>Someone else had been lucky in an @AutoExpress...</td>\n      <td>seat</td>\n      <td>someone else had been lucky in an competition ...</td>\n      <td>9</td>\n      <td>0.142857</td>\n      <td>[lucky, competition, seatuk, seat, mii, seatmi...</td>\n      <td>0.059722</td>\n      <td>5.0</td>\n    </tr>\n    <tr>\n      <th>4</th>\n      <td>2019-01-31</td>\n      <td>2019-01</td>\n      <td>We have the new #SEATMii available now with 0%...</td>\n      <td>seat</td>\n      <td>we have the new #seatmii available now with 0 ...</td>\n      <td>7</td>\n      <td>0.215336</td>\n      <td>[new, seatmii, available, apr, representative,...</td>\n      <td>0.139158</td>\n      <td>15.0</td>\n    </tr>\n  </tbody>\n</table>\n</div>",
      "text/plain": "         date month_year                                              tweet  \\\n0  2018-11-03    2018-11  Enjoy every minute of city living with the com...   \n1  2018-11-26    2018-11  Recent move: We took this #SeatMii to a film s...   \n2  2019-01-17    2019-01  What a great start to a Thursday morning! Cong...   \n3  2019-01-29    2019-01  Someone else had been lucky in an @AutoExpress...   \n4  2019-01-31    2019-01  We have the new #SEATMii available now with 0%...   \n\n  brand                                        clean_tweet  topic_n      prob  \\\n0  seat  enjoy every minute of city living with the com...        8  0.143547   \n1  seat  recent move we took this #seatmii to a film st...        6  0.142570   \n2  seat  what a great start to a thursday morning congr...        7  0.190452   \n3  seat  someone else had been lucky in an competition ...        9  0.142857   \n4  seat  we have the new #seatmii available now with 0 ...        7  0.215336   \n\n                                               token     score  class  \n0  [enjoy, minute, city, live, compact, seatmii, ...  0.145963   16.0  \n1  [recent, take, seatmii, film, studio, good, ca...  0.133016    6.0  \n2  [great, start, thursday, morning, congratulati...  0.071265    7.0  \n3  [lucky, competition, seatuk, seat, mii, seatmi...  0.059722    5.0  \n4  [new, seatmii, available, apr, representative,...  0.139158   15.0  "
     },
     "execution_count": 116,
     "metadata": {},
     "output_type": "execute_result"
    }
   ],
   "source": [
    "df_score.head()"
   ]
  },
  {
   "cell_type": "code",
   "execution_count": 118,
   "metadata": {},
   "outputs": [],
   "source": [
    "\n",
    "df_score['class_'] = np.where(df_score['class']>0, 'positive', 'negative')"
   ]
  },
  {
   "cell_type": "code",
   "execution_count": 119,
   "metadata": {},
   "outputs": [],
   "source": [
    "pickle.dump(df_score, open(\"/Users/nicole/Documents/ARP/code/df_score.pkl\", \"wb\"))"
   ]
  }
 ],
 "metadata": {
  "kernelspec": {
   "display_name": "Python 3.6.13 64-bit ('FCA3-env': conda)",
   "name": "python3613jvsc74a57bd00073289e3c2f409a4de5a7e762f947f00883d38e523654298f958b38a7de9296"
  },
  "language_info": {
   "name": "python",
   "version": ""
  },
  "orig_nbformat": 2
 },
 "nbformat": 4,
 "nbformat_minor": 2
}